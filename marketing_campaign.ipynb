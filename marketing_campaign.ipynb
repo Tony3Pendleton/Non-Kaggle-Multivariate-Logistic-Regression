{
 "cells": [
  {
   "cell_type": "code",
   "execution_count": 112,
   "metadata": {},
   "outputs": [],
   "source": [
    "# Supress unnecessary warnings so that presentation looks clean\n",
    "\n",
    "import warnings\n",
    "warnings.filterwarnings('ignore')\n",
    "\n",
    "# problem statement ---> http://logisticregressionanalysis.com/303-what-a-logistic-regression-data-set-looks-like-an-example/\n"
   ]
  },
  {
   "cell_type": "code",
   "execution_count": 113,
   "metadata": {},
   "outputs": [],
   "source": [
    "# Importing the libraries\n",
    "\n",
    "import numpy as np\n",
    "import seaborn as sns\n",
    "import matplotlib.pyplot as plt\n",
    "import pandas as pd"
   ]
  },
  {
   "cell_type": "code",
   "execution_count": 114,
   "metadata": {},
   "outputs": [
    {
     "name": "stdout",
     "output_type": "stream",
     "text": [
      "   Obs No.  Buy  Income  Is Female  Is Married  Has College  Is Professional  \\\n",
      "0        1    0   24000          1           0            1                1   \n",
      "1        2    1   75000          1           1            1                1   \n",
      "2        3    0   46000          1           1            0                0   \n",
      "3        4    1   70000          0           1            0                1   \n",
      "4        5    0   43000          1           0            0                0   \n",
      "\n",
      "   Is Retired  Unemployed  Residence Length  Dual Income  Minors  Own  House  \\\n",
      "0           0           0                26            0       0    0      1   \n",
      "1           0           0                15            1       0    1      1   \n",
      "2           0           0                36            1       1    1      1   \n",
      "3           0           0                55            0       0    1      1   \n",
      "4           0           0                27            0       0    0      0   \n",
      "\n",
      "   White  English  Prev Child Mag  Prev Parent Mag  \n",
      "0      0        0               0                0  \n",
      "1      1        1               1                0  \n",
      "2      1        1               0                0  \n",
      "3      1        1               1                0  \n",
      "4      1        1               0                1  \n",
      "   Obs No.  Buy  Income  Is Female  Is Married  Has College  Is Professional  \\\n",
      "0        1    0   24000          1           0            1                1   \n",
      "1        2    1   75000          1           1            1                1   \n",
      "2        3    0   46000          1           1            0                0   \n",
      "3        4    1   70000          0           1            0                1   \n",
      "4        5    0   43000          1           0            0                0   \n",
      "\n",
      "   Is Retired  Unemployed  Residence Length  Dual Income  Minors  Own  House  \\\n",
      "0           0           0                26            0       0    0      1   \n",
      "1           0           0                15            1       0    1      1   \n",
      "2           0           0                36            1       1    1      1   \n",
      "3           0           0                55            0       0    1      1   \n",
      "4           0           0                27            0       0    0      0   \n",
      "\n",
      "   White  English  Prev Child Mag  Prev Parent Mag  \n",
      "0      0        0               0                0  \n",
      "1      1        1               1                0  \n",
      "2      1        1               0                0  \n",
      "3      1        1               1                0  \n",
      "4      1        1               0                1  \n",
      "##########################\n",
      "[[24000     1     0     1     1     0     0    26     0     0     0     1\n",
      "      0     0     0     0]\n",
      " [75000     1     1     1     1     0     0    15     1     0     1     1\n",
      "      1     1     1     0]\n",
      " [46000     1     1     0     0     0     0    36     1     1     1     1\n",
      "      1     1     0     0]]\n",
      "(673, 16)\n",
      "##########################\n",
      "[0 1 0]\n",
      "(673,)\n"
     ]
    }
   ],
   "source": [
    "dataset = pd.read_csv(\"dataset.csv\")\n",
    "X = dataset.iloc[:, 2:].values\n",
    "y = dataset.iloc[:, 1].values\n",
    "\n",
    "\n",
    "#Display the header and first five rows to get a feel of the data\n",
    "print(dataset.head())\n",
    "print(dataset.head(5))\n",
    "print(\"##########################\")\n",
    "print(X[:3,:])\n",
    "print(X.shape)\n",
    "print(\"##########################\")\n",
    "print(y[:3])\n",
    "print(y.shape)\n"
   ]
  },
  {
   "cell_type": "code",
   "execution_count": 115,
   "metadata": {},
   "outputs": [],
   "source": [
    "#################################################################\n",
    "# No missing data\n",
    "# No categorical data\n",
    "#################################################################"
   ]
  },
  {
   "cell_type": "code",
   "execution_count": 116,
   "metadata": {},
   "outputs": [],
   "source": [
    "from sklearn.model_selection import train_test_split\n",
    "X_train, X_test, y_train, y_test = train_test_split(\n",
    "    X, y, test_size=0.25, random_state=0)"
   ]
  },
  {
   "cell_type": "code",
   "execution_count": 117,
   "metadata": {},
   "outputs": [
    {
     "name": "stdout",
     "output_type": "stream",
     "text": [
      "##########################\n",
      "[[18000     0     0     0     0     0     0    24     0     0     0     1\n",
      "      1     1     0     0]\n",
      " [26000     1     1     1     0     1     0    20     0     1     1     1\n",
      "      1     1     0     0]\n",
      " [ 7000     1     0     0     0     0     0    13     0     0     0     1\n",
      "      1     1     0     0]]\n",
      "(504, 16)\n",
      "##########################\n",
      "[[52000     1     0     0     1     0     0    18     0     0     1     1\n",
      "      0     1     0     0]\n",
      " [27000     1     0     1     0     1     0     9     0     0     0     0\n",
      "      1     1     0     0]\n",
      " [15000     0     0     0     1     0     0    20     0     1     0     0\n",
      "      1     1     1     0]]\n",
      "(169, 16)\n"
     ]
    }
   ],
   "source": [
    "# Dont need feature scaling\n",
    "print(\"##########################\")\n",
    "print(X_train[:3,:])\n",
    "print(X_train.shape)\n",
    "print(\"##########################\")\n",
    "print(X_test[:3,:])\n",
    "print(X_test.shape)"
   ]
  },
  {
   "cell_type": "code",
   "execution_count": 118,
   "metadata": {},
   "outputs": [
    {
     "name": "stdout",
     "output_type": "stream",
     "text": [
      "<class 'numpy.ndarray'>\n",
      "(169,)\n",
      "y_pred snippet [0 0 0 0 1 0 1 0 0 0 0 0 0 0 0 1 1 0 1 0 0 0 0 0 0 0 1 0 0 0]\n",
      "##########################\n",
      "y_test snippet [0 0 0 0 0 0 1 0 0 0 0 0 0 0 0 1 1 0 1 0 0 0 0 1 0 0 0 0 0 0]\n"
     ]
    }
   ],
   "source": [
    "# Fitting Logistic Regression to the Training set\n",
    "from sklearn.linear_model import LogisticRegression\n",
    "classifier = LogisticRegression(random_state=0)\n",
    "classifier.fit(X_train, y_train) #supervised learning, using both X_train and y_train\n",
    "\n",
    "\n",
    "# Predicting the Test set results\n",
    "y_pred = classifier.predict(X_test)\n",
    "print(type(y_pred))\n",
    "print(y_pred.shape)\n",
    "print(\"y_pred snippet %s\" % y_pred[:30])\n",
    "print(\"##########################\")\n",
    "print(\"y_test snippet %s\" % y_test[:30])"
   ]
  },
  {
   "cell_type": "code",
   "execution_count": 119,
   "metadata": {},
   "outputs": [
    {
     "name": "stdout",
     "output_type": "stream",
     "text": [
      "Predicted    0   1\n",
      "Actual            \n",
      "0          129  10\n",
      "1            5  25\n"
     ]
    }
   ],
   "source": [
    "# Making the Confusion Matrix (AKA evaulating the model)\n",
    "from sklearn.metrics import confusion_matrix\n",
    "# cm = confusion_matrix(y_test, y_pred)\n",
    "# print(\"cm: %s\" % cm)\n",
    "\n",
    "y_test = pd.Series(y_test, name='Actual')\n",
    "y_pred = pd.Series(y_pred, name='Predicted')\n",
    "df_confusion = pd.crosstab(y_test, y_pred)\n",
    "print(df_confusion)\n",
    "\n",
    "\n",
    "# Summary of results..\n",
    "# 129 true negatives, 10 false positives, 5 false negatives, 25 true positives\n"
   ]
  }
 ],
 "metadata": {
  "kernelspec": {
   "display_name": "Python 3",
   "language": "python",
   "name": "python3"
  },
  "language_info": {
   "codemirror_mode": {
    "name": "ipython",
    "version": 3
   },
   "file_extension": ".py",
   "mimetype": "text/x-python",
   "name": "python",
   "nbconvert_exporter": "python",
   "pygments_lexer": "ipython3",
   "version": "3.7.3"
  }
 },
 "nbformat": 4,
 "nbformat_minor": 2
}
